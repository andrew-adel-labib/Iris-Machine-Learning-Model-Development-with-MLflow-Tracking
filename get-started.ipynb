{
 "cells": [
  {
   "cell_type": "markdown",
   "id": "c9696e76",
   "metadata": {},
   "source": [
    "## MLFlow Tracking Server"
   ]
  },
  {
   "cell_type": "code",
   "execution_count": 6,
   "id": "a45d309b",
   "metadata": {},
   "outputs": [],
   "source": [
    "import mlflow"
   ]
  },
  {
   "cell_type": "code",
   "execution_count": 7,
   "id": "75b4df18",
   "metadata": {},
   "outputs": [],
   "source": [
    "mlflow.set_tracking_uri(\"http://127.0.0.1:5000\")"
   ]
  },
  {
   "cell_type": "code",
   "execution_count": 8,
   "id": "6154df19",
   "metadata": {},
   "outputs": [
    {
     "name": "stderr",
     "output_type": "stream",
     "text": [
      "2025/07/06 23:08:59 INFO mlflow.tracking.fluent: Experiment with name 'Check Localhost Connection' does not exist. Creating a new experiment.\n"
     ]
    },
    {
     "name": "stdout",
     "output_type": "stream",
     "text": [
      "🏃 View run merciful-dog-347 at: http://127.0.0.1:5000/#/experiments/176917000399869178/runs/ffb235bd7e594a74b1857bb5acff486c\n",
      "🧪 View experiment at: http://127.0.0.1:5000/#/experiments/176917000399869178\n"
     ]
    }
   ],
   "source": [
    "mlflow.set_experiment(\"Check Localhost Connection\")\n",
    "\n",
    "with mlflow.start_run():\n",
    "    mlflow.log_metric(\"Test\", 1)\n",
    "    mlflow.log_metric(\"Andrew\", 2)"
   ]
  },
  {
   "cell_type": "code",
   "execution_count": 9,
   "id": "6bd1bccc",
   "metadata": {},
   "outputs": [
    {
     "name": "stdout",
     "output_type": "stream",
     "text": [
      "🏃 View run awesome-zebra-701 at: http://127.0.0.1:5000/#/experiments/176917000399869178/runs/68a2eb52ae48443e818ea472775163e6\n",
      "🧪 View experiment at: http://127.0.0.1:5000/#/experiments/176917000399869178\n"
     ]
    }
   ],
   "source": [
    "mlflow.set_experiment(\"Check Localhost Connection\")\n",
    "\n",
    "with mlflow.start_run():\n",
    "    mlflow.log_metric(\"Test1\", 1)\n",
    "    mlflow.log_metric(\"Andrew1\", 2)"
   ]
  },
  {
   "cell_type": "code",
   "execution_count": 10,
   "id": "46224ee0",
   "metadata": {},
   "outputs": [
    {
     "name": "stdout",
     "output_type": "stream",
     "text": [
      "🏃 View run luminous-ray-669 at: http://127.0.0.1:5000/#/experiments/176917000399869178/runs/39955715f6ee443eb2f9b27de6cb7576\n",
      "🧪 View experiment at: http://127.0.0.1:5000/#/experiments/176917000399869178\n"
     ]
    }
   ],
   "source": [
    "mlflow.set_experiment(\"Check Localhost Connection\")\n",
    "\n",
    "with mlflow.start_run():\n",
    "    mlflow.log_metric(\"Test2\", 1)\n",
    "    mlflow.log_metric(\"Andrew2\", 2)"
   ]
  },
  {
   "cell_type": "code",
   "execution_count": null,
   "id": "72743e09",
   "metadata": {},
   "outputs": [],
   "source": []
  }
 ],
 "metadata": {
  "kernelspec": {
   "display_name": "Python 3",
   "language": "python",
   "name": "python3"
  },
  "language_info": {
   "codemirror_mode": {
    "name": "ipython",
    "version": 3
   },
   "file_extension": ".py",
   "mimetype": "text/x-python",
   "name": "python",
   "nbconvert_exporter": "python",
   "pygments_lexer": "ipython3",
   "version": "3.10.0"
  }
 },
 "nbformat": 4,
 "nbformat_minor": 5
}
